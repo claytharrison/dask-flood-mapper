{
 "cells": [
  {
   "cell_type": "markdown",
   "metadata": {
    "vscode": {
     "languageId": "plaintext"
    }
   },
   "source": [
    "# Dask Flood Mapper"
   ]
  },
  {
   "cell_type": "code",
   "execution_count": null,
   "metadata": {},
   "outputs": [],
   "source": [
    "from dask_flood_mapper import flood\n",
    "from bokeh.models import FixedTicker\n",
    "import hvplot.xarray"
   ]
  },
  {
   "cell_type": "code",
   "execution_count": null,
   "metadata": {},
   "outputs": [],
   "source": [
    "import dask\n",
    "dask.config.set(temporary_directory='/tmp')\n",
    "from dask.distributed import Client, wait\n",
    "client = Client(processes=False, threads_per_worker=2,\n",
    "                n_workers=1, memory_limit='20GB')"
   ]
  },
  {
   "cell_type": "code",
   "execution_count": null,
   "metadata": {},
   "outputs": [],
   "source": [
    "time_range = \"2022-10-11/2022-10-25\"\n",
    "bbox = [12.3, 54.3, 13.1, 54.6]\n",
    "fd = flood.decision(bbox=bbox, datetime=time_range).compute()\n",
    "fd"
   ]
  },
  {
   "cell_type": "code",
   "execution_count": null,
   "metadata": {},
   "outputs": [],
   "source": [
    "import os\n",
    "import pystac_client\n",
    "from odc import stac as odc_stac\n",
    "from rasterio.enums import Resampling\n",
    "import numpy as np\n",
    "\n",
    "crs = \"EPSG:4326\"  # Coordinate Reference System - World Geodetic System 1984 (WGS84) in this case\n",
    "res = 0.00018  # 20 meter in degree\n",
    "os.environ[\"AWS_NO_SIGN_REQUEST\"] = \"YES\"\n",
    "wcover_catalog = pystac_client.Client.open(\"https://services.terrascope.be/stac/\")\n",
    "search = wcover_catalog.search(\n",
    "    collections=\"urn:eop:VITO:ESA_WorldCover_10m_2021_AWS_V2\", bbox=bbox\n",
    ")\n",
    "\n",
    "items_wcover = search.item_collection()\n",
    "wcover_dc = (\n",
    "    odc_stac.load(\n",
    "        items_wcover,\n",
    "        crs=4326,\n",
    "        resolution=res,\n",
    "        bbox=bbox,\n",
    "    )\n",
    "    .squeeze(\"time\")\n",
    "    .drop_vars(\"time\")\n",
    "    .rename_dims({\"longitude\": \"x\", \"latitude\": \"y\"})\n",
    "    .rename_vars({\"ESA_WORLDCOVER_10M_MAP\": \"wcover\", \"longitude\": \"x\", \"latitude\": \"y\"})\n",
    "    .transpose(\"y\", \"x\")\n",
    ")\n",
    "wcover = wcover_dc.rio.reproject_match(fd, resampling=Resampling.bilinear, nodata=-999).wcover"
   ]
  },
  {
   "cell_type": "code",
   "execution_count": null,
   "metadata": {},
   "outputs": [],
   "source": [
    "wcover = wcover.astype(int)"
   ]
  },
  {
   "cell_type": "code",
   "execution_count": null,
   "metadata": {},
   "outputs": [],
   "source": [
    "fd = fd.where(wcover != 80)\n",
    "fd"
   ]
  },
  {
   "cell_type": "code",
   "execution_count": null,
   "metadata": {},
   "outputs": [],
   "source": [
    "colorbar_opts = {\n",
    "    \"major_label_overrides\": {\n",
    "        0: \"non-flood\",\n",
    "        1: \"flood\",\n",
    "    },\n",
    "    \"ticker\": FixedTicker(ticks=[0, 1]),\n",
    "}\n",
    "fd.hvplot.image(\n",
    "    x=\"x\", y=\"y\", rasterize=True, geo=True, cmap=[\"rgba(0, 0, 1, 0.1)\", \"darkred\"]\n",
    ").opts(frame_height=400, colorbar_opts={**colorbar_opts})"
   ]
  },
  {
   "cell_type": "code",
   "execution_count": null,
   "metadata": {},
   "outputs": [],
   "source": [
    "client.close()"
   ]
  }
 ],
 "metadata": {
  "kernelspec": {
   "display_name": "dask-flood-mapper-z0eq0g_n",
   "language": "python",
   "name": "python3"
  },
  "language_info": {
   "codemirror_mode": {
    "name": "ipython",
    "version": 3
   },
   "file_extension": ".py",
   "mimetype": "text/x-python",
   "name": "python",
   "nbconvert_exporter": "python",
   "pygments_lexer": "ipython3",
   "version": "3.12.8"
  }
 },
 "nbformat": 4,
 "nbformat_minor": 2
}
