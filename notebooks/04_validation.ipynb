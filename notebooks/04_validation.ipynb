{
 "cells": [
  {
   "cell_type": "markdown",
   "metadata": {},
   "source": [
    "## Validation\n",
    "\n",
    "Comparison of our results with baseline from 'Global Flood Monitoring' (GFM). Link: https://services.eodc.eu/browser/#/v1/collections/GFM"
   ]
  },
  {
   "cell_type": "code",
   "execution_count": null,
   "metadata": {},
   "outputs": [],
   "source": [
    "import hvplot.xarray\n",
    "import pystac_client\n",
    "from odc import stac as odc_stac\n",
    "from dask.distributed import wait\n",
    "from dask.distributed import Client, wait\n",
    "\n",
    "client = Client(processes=False, threads_per_worker=2, n_workers=3, memory_limit=\"12GB\")\n",
    "\n",
    "# Connect to STAC catalog\n",
    "eodc_catalog = pystac_client.Client.open(\"https://stac.eodc.eu/api/v1/\")\n",
    "\n",
    "# Search for available images\n",
    "time_range = \"2022-10-11/2022-10-25\"\n",
    "bounding_box = [12.3, 54.3, 13.1, 54.6]\n",
    "search = eodc_catalog.search(collections=\"GFM\", bbox=bounding_box, datetime=time_range)\n",
    "items_GFM = search.item_collection()\n",
    "\n",
    "print(f\"Found {len(items_GFM)} items\") "
   ]
  },
  {
   "cell_type": "code",
   "execution_count": null,
   "metadata": {},
   "outputs": [],
   "source": [
    "items_GFM[0].properties#[\"proj:wkt2\"]"
   ]
  },
  {
   "cell_type": "code",
   "execution_count": null,
   "metadata": {},
   "outputs": [],
   "source": [
    "import pyproj\n",
    "crs = pyproj.CRS.from_wkt(items_GFM[0].properties[\"proj:wkt2\"])\n",
    "\n",
    "# Set the resolution of the data\n",
    "resolution = items_GFM[0].properties['gsd']\n",
    "\n",
    "GFM_dc= odc_stac.load(\n",
    "    items_GFM, \n",
    "    bbox=bounding_box,   # Define the bounding box for the area of interest\n",
    "    crs=crs,   # Set the coordinate reference system\n",
    "    bands=[\"tuw_likelihood\",\"tuw_flood_extent\"],   # Specify the bands to load\n",
    "    resolution=resolution,   # Set the resolution of the data\n",
    "    dtype='uint8',   # Define the data type\n",
    "    chunks={\"x\": 1000, \"y\": 1000, \"time\": -1},  # Set the chunk size for Dask\n",
    ")\n",
    "\n"
   ]
  },
  {
   "cell_type": "code",
   "execution_count": null,
   "metadata": {},
   "outputs": [],
   "source": [
    "GFM_dc[\"tuw_flood_extent\"] = GFM_dc.tuw_flood_extent.where(GFM_dc.tuw_flood_extent!=255).compute()\n",
    "GFM_dc[\"tuw_likelihood\"] = GFM_dc.tuw_likelihood.where(GFM_dc.tuw_likelihood!=255).compute()"
   ]
  },
  {
   "cell_type": "code",
   "execution_count": null,
   "metadata": {},
   "outputs": [],
   "source": [
    "chunks = {\"time\": 1, \"latitude\": 1300, \"longitude\": 1300}\n",
    "\n",
    "\n",
    "GFM_dc = odc_stac.load(items_GFM, crs=\"EPSG:4326\", chunks=chunks, resolution=0.01) #dimishing resolution to speed up\n",
    "print(GFM_dc)\n",
    "\n",
    "GFM_dc = GFM_dc.persist()\n",
    "wait(GFM_dc)\n"
   ]
  },
  {
   "cell_type": "code",
   "execution_count": null,
   "metadata": {},
   "outputs": [],
   "source": [
    "print(items_GFM)"
   ]
  },
  {
   "cell_type": "code",
   "execution_count": null,
   "metadata": {},
   "outputs": [],
   "source": [
    "band_name = \"tuw_flood_extent\"\n",
    "print(f\"Visualizing band: {band_name}\")\n",
    "\n",
    "GFM_dc[band_name].hvplot.image(x=\"x\", y=\"y\", title=band_name)\n"
   ]
  },
  {
   "cell_type": "code",
   "execution_count": null,
   "metadata": {},
   "outputs": [],
   "source": [
    "band_name = \"tuw_likelihood\"\n",
    "print(f\"Visualizing band: {band_name}\")\n",
    "\n",
    "GFM_dc[band_name].hvplot.image(x=\"x\", y=\"y\", title=band_name)"
   ]
  }
 ],
 "metadata": {
  "kernelspec": {
   "display_name": "base",
   "language": "python",
   "name": "python3"
  },
  "language_info": {
   "codemirror_mode": {
    "name": "ipython",
    "version": 3
   },
   "file_extension": ".py",
   "mimetype": "text/x-python",
   "name": "python",
   "nbconvert_exporter": "python",
   "pygments_lexer": "ipython3",
   "version": "3.12.2"
  }
 },
 "nbformat": 4,
 "nbformat_minor": 2
}
