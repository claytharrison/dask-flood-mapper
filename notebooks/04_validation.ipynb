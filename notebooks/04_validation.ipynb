{
 "cells": [
  {
   "cell_type": "markdown",
   "metadata": {},
   "source": [
    "# Validation\n",
    "\n",
    "In order to validate our results, this notebook will show the flood mapping for the same area and time range from the ['Global Flood Monitoring'(GFM)](https://services.eodc.eu/browser/#/v1/collections/GFM) to allow comparisons."
   ]
  },
  {
   "cell_type": "code",
   "execution_count": null,
   "metadata": {},
   "outputs": [],
   "source": [
    "import hvplot.xarray\n",
    "import pystac_client\n",
    "from odc import stac as odc_stac\n",
    "from dask.distributed import Client, wait\n",
    "\n",
    "#remove client afterwards\n",
    "client = Client(processes=False, threads_per_worker=2, n_workers=3, memory_limit=\"12GB\")\n",
    "\n",
    "# Connect to STAC catalog\n",
    "eodc_catalog = pystac_client.Client.open(\"https://stac.eodc.eu/api/v1/\")\n",
    "\n",
    "# Search for available images\n",
    "time_range = \"2023-10-11/2023-10-25\"\n",
    "bounding_box = [12.3, 54.3, 13.1, 54.6]\n",
    "search = eodc_catalog.search(collections=\"GFM\", bbox=bounding_box, datetime=time_range)\n",
    "items_GFM = search.item_collection()\n",
    "\n",
    "print(f\"Found {len(items_GFM)} items\") "
   ]
  },
  {
   "cell_type": "markdown",
   "metadata": {},
   "source": [
    "### Load the data"
   ]
  },
  {
   "cell_type": "code",
   "execution_count": null,
   "metadata": {},
   "outputs": [],
   "source": [
    "import pyproj\n",
    "\n",
    "crs = \"EPSG:4326\"  # Coordinate Reference System - World Geodetic System 1984 (WGS84) in this case\n",
    "resolution = 0.00018  # 20 meter in degree\n",
    "\n",
    "GFM_dc= odc_stac.load(\n",
    "    items_GFM, \n",
    "    bbox=bounding_box,   \n",
    "    crs=crs,  \n",
    "    bands=[\"tuw_likelihood\",\"tuw_flood_extent\"],   \n",
    "    resolution=resolution,   \n",
    "    dtype='uint8',   \n",
    "    chunks={\"x\": 1000, \"y\": 1000, \"time\": -1},  \n",
    ")\n",
    "\n"
   ]
  },
  {
   "cell_type": "markdown",
   "metadata": {},
   "source": [
    "### Pre-processing "
   ]
  },
  {
   "cell_type": "code",
   "execution_count": null,
   "metadata": {},
   "outputs": [],
   "source": [
    "GFM_dc[\"tuw_flood_extent\"] = GFM_dc.tuw_flood_extent.where(GFM_dc.tuw_flood_extent!=255).compute()\n",
    "\n",
    "GFM_dc_flood = GFM_dc[\"tuw_flood_extent\"]\n",
    "\n",
    "#GFM_dc_flood.data"
   ]
  },
  {
   "cell_type": "code",
   "execution_count": null,
   "metadata": {},
   "outputs": [],
   "source": [
    "import numpy as np\n",
    "\n",
    "values = GFM_dc_flood.values\n",
    "unique_values, counts = np.unique(values[~np.isnan(values)], return_counts=True)\n",
    "print(dict(zip(unique_values, counts)))\n"
   ]
  },
  {
   "cell_type": "markdown",
   "metadata": {},
   "source": [
    "### Plot GFM\n",
    "\n"
   ]
  },
  {
   "cell_type": "code",
   "execution_count": null,
   "metadata": {},
   "outputs": [],
   "source": [
    "from bokeh.models import FixedTicker\n",
    "import hvplot.xarray\n",
    "\n",
    "band_name = \"tuw_flood_extent\"\n",
    "print(f\"Visualizing band: {band_name}\")\n",
    "\n",
    "colorbar_opts = {\n",
    "    \"major_label_overrides\": {\n",
    "        0: \"non-flood\",\n",
    "        1: \"flood\",\n",
    "    },\n",
    "    \"ticker\": FixedTicker(ticks=[0, 1]),\n",
    "}\n",
    "\n",
    "GFM_flood_plot =GFM_dc_flood.hvplot.image(x=\"longitude\", y=\"latitude\", title=band_name, cmap=[\"rgba(0, 0, 1, 0.1)\", \"darkred\"]).opts(frame_height=400, frame_width= 700)\n",
    "GFM_flood_plot\n",
    "\n"
   ]
  },
  {
   "cell_type": "code",
   "execution_count": null,
   "metadata": {},
   "outputs": [],
   "source": [
    "GFM_plot=GFM_dc_flood.hvplot.quadmesh(\n",
    "    x=\"longitude\",\n",
    "    y=\"latitude\",\n",
    "  #  rasterize=True,\n",
    "   # geo=True,\n",
    "    cmap=[\"rgba(0, 0, 1, 0.1)\", \"darkred\"],\n",
    ").opts(frame_height=400, frame_width= 700)\n",
    "\n",
    "GFM_plot"
   ]
  },
  {
   "cell_type": "markdown",
   "metadata": {},
   "source": [
    "## Plot dask-flood-mapper"
   ]
  },
  {
   "cell_type": "code",
   "execution_count": null,
   "metadata": {},
   "outputs": [],
   "source": [
    "from dask_flood_mapper import flood\n",
    "from dask.distributed import Client\n",
    "\n",
    "# define dask client\n",
    "client = Client(processes=False, threads_per_worker=2, n_workers=1, memory_limit=\"12GB\")\n",
    "\n",
    "# flood area and time\n",
    "time_range = \"2023-10-11/2023-10-25\"\n",
    "bbox = [12.3, 54.3, 13.1, 54.6]\n",
    "#calculate flood decision\n",
    "fd = flood.decision(bbox=bbox, datetime=time_range).compute()\n",
    "\n",
    "from importlib.resources import files\n",
    "import xarray as xr\n",
    "\n",
    "data_text = files(\"dask_flood_mapper.data\").joinpath(\"wcover.tif\")\n",
    "wcover = xr.open_dataarray(data_text)\n",
    "\n",
    "from bokeh.models import FixedTicker\n",
    "import hvplot.xarray\n",
    "\n"
   ]
  },
  {
   "cell_type": "code",
   "execution_count": null,
   "metadata": {},
   "outputs": [],
   "source": [
    "fd = fd.where(wcover != 80)\n",
    "colorbar_opts = {\n",
    "    \"major_label_overrides\": {\n",
    "        0: \"non-flood\",\n",
    "        1: \"flood\",\n",
    "    },\n",
    "    \"ticker\": FixedTicker(ticks=[0, 1]),\n",
    "}\n",
    "plot_obj=fd.hvplot.quadmesh(\n",
    "    x=\"x\",\n",
    "    y=\"y\",\n",
    "    rasterize=True,\n",
    "    geo=True,\n",
    "    cmap=[\"rgba(0, 0, 1, 0.1)\", \"darkred\"],\n",
    ").opts(frame_height=400, frame_width= 700)#, colorbar_opts={**colorbar_opts})\n",
    "\n",
    "plot_obj"
   ]
  },
  {
   "cell_type": "code",
   "execution_count": null,
   "metadata": {},
   "outputs": [],
   "source": [
    "combined_plot = GFM_flood_plot + plot_obj\n",
    "#combined_plot.opts(\n",
    " #   title=\"Comparison of Flood Extent and Water Cover\",height=800,width=400)\n",
    "combined_plot"
   ]
  },
  {
   "cell_type": "code",
   "execution_count": null,
   "metadata": {},
   "outputs": [],
   "source": [
    "fd"
   ]
  },
  {
   "cell_type": "code",
   "execution_count": null,
   "metadata": {},
   "outputs": [],
   "source": [
    "import numpy as np\n",
    "import holoviews as hv\n",
    "import hvplot.xarray\n",
    "\n",
    "hv.extension('bokeh')\n",
    "\n",
    "fd = fd.rename({'x':'longitude', 'y':'latitude'})\n",
    "# Get the shared time values (intersection) between the two datasets\n",
    "common_times = np.intersect1d(GFM_dc_flood.time.values, fd.time.values)\n",
    "\n",
    "# Define the plot function for the synced time slider\n",
    "def synced_plot(t):\n",
    "    # Slice the datasets by the common time values (ignoring 'band')\n",
    "    plot1 = GFM_dc_flood.sel(time=t).hvplot.image(x='longitude', y='latitude')\n",
    "    plot2 = fd.sel(time=t).hvplot.image(x='longitude', y='latitude')\n",
    "\n",
    "    # Return both plots side by side\n",
    "    return (plot1 + plot2).cols(2)\n",
    "\n",
    "# Create the DynamicMap with the common time range\n",
    "combined_plot = hv.DynamicMap(synced_plot, kdims='time').redim.values(time=common_times)\n",
    "\n",
    "combined_plot\n"
   ]
  }
 ],
 "metadata": {
  "kernelspec": {
   "display_name": ".venv",
   "language": "python",
   "name": "python3"
  },
  "language_info": {
   "codemirror_mode": {
    "name": "ipython",
    "version": 3
   },
   "file_extension": ".py",
   "mimetype": "text/x-python",
   "name": "python",
   "nbconvert_exporter": "python",
   "pygments_lexer": "ipython3",
   "version": "3.10.12"
  }
 },
 "nbformat": 4,
 "nbformat_minor": 2
}
